{
 "cells": [
  {
   "cell_type": "code",
   "execution_count": 284,
   "metadata": {},
   "outputs": [],
   "source": [
    "import geopandas as gpd\n",
    "import pandas as pd\n",
    "import datetime \n",
    "import ee\n",
    "#Pandas modules to interact data\n",
    "import numpy as np\n",
    "import matplotlib.pyplot as plt\n",
    "%matplotlib inline\n",
    "\n",
    "\n"
   ]
  },
  {
   "cell_type": "code",
   "execution_count": 285,
   "metadata": {},
   "outputs": [],
   "source": [
    "#ee.Authenticate()\n",
    "# 4/1AY0e-g6N7hzPKVfIt7WiyOpUr1Kjj2yP7e1H58-az1rfuJMBkfI3q6IELd4\n",
    "ee.Initialize()\n"
   ]
  },
  {
   "cell_type": "code",
   "execution_count": 286,
   "metadata": {},
   "outputs": [],
   "source": [
    "\n",
    "# Set filepath\n",
    "fp = \"data/aoi.shp\"\n",
    "# Read file using gpd.read_file()\n",
    "shapefile =gpd.read_file(fp)\n",
    "\n",
    "features = []\n",
    "for i in range(shapefile.shape[0]):\n",
    "    geom = shapefile.iloc[i:i+1,:] \n",
    "    jsonDict = eval(geom.to_json()) \n",
    "    geojsonDict = jsonDict['features'][0] \n",
    "    features.append(ee.Feature(geojsonDict)) \n",
    "\n",
    "fc = ee.FeatureCollection(features)\n"
   ]
  },
  {
   "cell_type": "code",
   "execution_count": 287,
   "metadata": {},
   "outputs": [],
   "source": [
    "# import the RS products\n",
    "chirps = ee.ImageCollection('UCSB-CHG/CHIRPS/PENTAD')\n",
    " \n",
    "# Define time range\n",
    "startyear = 2019\n",
    "endyear = 2020\n",
    "\n",
    "# Set date in ee date format\n",
    "startdate = ee.Date.fromYMD(startyear,1,1)\n",
    "enddate = ee.Date.fromYMD(endyear+1,12,31)\n",
    "\n",
    " \n",
    "# create list for years\n",
    "years = range(startyear,endyear);\n",
    " \n",
    "# make a list with months\n",
    "months = range(1,13)"
   ]
  },
  {
   "cell_type": "code",
   "execution_count": 288,
   "metadata": {},
   "outputs": [],
   "source": [
    "#Filter to select Precipitation band\n",
    "PrecipitationChirps = chirps.filterDate(startdate, enddate).sort('system:time_start', False).select(\"precipitation\")\n",
    " "
   ]
  },
  {
   "cell_type": "code",
   "execution_count": 456,
   "metadata": {},
   "outputs": [],
   "source": [
    "#pd.DataFrame()\n",
    "#pd.json_normalize()\n"
   ]
  },
  {
   "cell_type": "code",
   "execution_count": 457,
   "metadata": {},
   "outputs": [
    {
     "name": "stdout",
     "output_type": "stream",
     "text": [
      "[[104.1574694652148, 43.28082512701279], [106.23862359448565, 43.618548374457575], [106.1406869295788, 44.498277862491605], [107.6587052356352, 44.77703004688289], [108.36874605620996, 43.618548374457575], [109.56847020131904, 44.16552050503997], [111.45375100077617, 43.120192911096666], [109.56847020131904, 42.31069284139379], [106.85072775015357, 42.09304382863742], [104.67163695597583, 41.28859028286109], [103.96159613540107, 42.111209878922594], [104.1574694652148, 43.28082512701279]]\n"
     ]
    }
   ],
   "source": [
    "# Define geograpic \n",
    "# Shapefile to polygon\n",
    "shapefile =gpd.read_file(fp)\n",
    "# extract the information needed from the GeoDataFrame to create the feature object. \n",
    "features = []\n",
    "for i in range(shapefile.shape[0]):\n",
    "    geom = shapefile.iloc[i:i+1,:] \n",
    "    jsonDict = eval(geom.to_json()) \n",
    "    geojsonDict = jsonDict['features'][0] \n",
    "    features.append(ee.Feature(geojsonDict)) \n",
    "    print(geojsonDict.get('geometry').get('coordinates')[0])\n",
    "fc = ee.FeatureCollection(features)"
   ]
  },
  {
   "cell_type": "code",
   "execution_count": null,
   "metadata": {},
   "outputs": [],
   "source": []
  },
  {
   "cell_type": "code",
   "execution_count": 458,
   "metadata": {},
   "outputs": [],
   "source": [
    "# Extract the polygon coordinates\n",
    "polygon1 = ee.Geometry.Polygon(fc.geometry().coordinates().getInfo()[0])\n",
    "#polygon=list(shapefile.loc[0][1].exterior.coords)\n",
    "# Change to list\n",
    "#polygon=[list(poly) for poly in polygon]\n"
   ]
  },
  {
   "cell_type": "code",
   "execution_count": 439,
   "metadata": {},
   "outputs": [],
   "source": [
    "# calculate the monthly Sum\n",
    "def MonthlySum(imageCollection):\n",
    "    mylist = ee.List([])\n",
    "    for y in years:\n",
    "        for m in months:\n",
    "            w = imageCollection.filter(ee.Filter.calendarRange(y, y, 'year')).filter(ee.Filter.calendarRange(m, m, 'month')).sum()\n",
    "            #mylist = mylist.add(w)\n",
    "            mylist = mylist.add(w.set('year', y).set('month', m).set('date', ee.Date.fromYMD(y,m,1)).set('system:time_start',ee.Date.fromYMD(y,m,1)))\n",
    "    return ee.ImageCollection.fromImages(mylist)"
   ]
  },
  {
   "cell_type": "code",
   "execution_count": 440,
   "metadata": {},
   "outputs": [
    {
     "name": "stdout",
     "output_type": "stream",
     "text": [
      "      id longitude latitude precipitation\n",
      "1      0   104.766  41.4348       1.44221\n",
      "2      1   104.766  41.4348      0.420318\n",
      "3      2   104.766  41.4348      0.119479\n",
      "4      3   104.766  41.4348       3.81272\n",
      "5      4   104.766  41.4348       6.27415\n",
      "...   ..       ...      ...           ...\n",
      "3032   7   107.686  44.5789       21.3676\n",
      "3033   8   107.686  44.5789       7.91872\n",
      "3034   9   107.686  44.5789        5.8231\n",
      "3035  10   107.686  44.5789       1.65451\n",
      "3036  11   107.686  44.5789       1.83438\n",
      "\n",
      "[3036 rows x 4 columns]\n"
     ]
    }
   ],
   "source": [
    "# run the calcMonthlyMean function\n",
    "monthlyChirps = ee.ImageCollection(MonthlySum(PrecipitationChirps))\n",
    "\n",
    "\n",
    "# select the region of interest, 25000 is the cellsize in meters\n",
    "monthlyChirps = monthlyChirps.getRegion(polygon1,25000,\"epsg:4326\").getInfo()\n",
    "\n",
    "\n",
    "# get january (index = 0)\n",
    "precipitation = pd.DataFrame(monthlyChirps, columns = monthlyChirps[0])\n",
    "\n",
    "# remove the first line\n",
    "precipitation = precipitation[1:]\n",
    "\n",
    "#to display the data\n",
    "print(precipitation[['id','longitude','latitude','precipitation']])"
   ]
  },
  {
   "cell_type": "code",
   "execution_count": 441,
   "metadata": {},
   "outputs": [
    {
     "name": "stdout",
     "output_type": "stream",
     "text": [
      "      id longitude latitude                                      time  \\\n",
      "1      0   104.766  41.4348  {'type': 'Date', 'value': 1546300800000}   \n",
      "2      1   104.766  41.4348  {'type': 'Date', 'value': 1548979200000}   \n",
      "3      2   104.766  41.4348  {'type': 'Date', 'value': 1551398400000}   \n",
      "4      3   104.766  41.4348  {'type': 'Date', 'value': 1554076800000}   \n",
      "5      4   104.766  41.4348  {'type': 'Date', 'value': 1556668800000}   \n",
      "...   ..       ...      ...                                       ...   \n",
      "3032   7   107.686  44.5789  {'type': 'Date', 'value': 1564617600000}   \n",
      "3033   8   107.686  44.5789  {'type': 'Date', 'value': 1567296000000}   \n",
      "3034   9   107.686  44.5789  {'type': 'Date', 'value': 1569888000000}   \n",
      "3035  10   107.686  44.5789  {'type': 'Date', 'value': 1572566400000}   \n",
      "3036  11   107.686  44.5789  {'type': 'Date', 'value': 1575158400000}   \n",
      "\n",
      "     precipitation  \n",
      "1          1.44221  \n",
      "2         0.420318  \n",
      "3         0.119479  \n",
      "4          3.81272  \n",
      "5          6.27415  \n",
      "...            ...  \n",
      "3032       21.3676  \n",
      "3033       7.91872  \n",
      "3034        5.8231  \n",
      "3035       1.65451  \n",
      "3036       1.83438  \n",
      "\n",
      "[3036 rows x 5 columns]\n"
     ]
    }
   ],
   "source": [
    "print(precipitation)"
   ]
  },
  {
   "cell_type": "code",
   "execution_count": 435,
   "metadata": {},
   "outputs": [
    {
     "data": {
      "image/png": "[encoded data removed]",
      "text/plain": [
       "<Figure size 432x288 with 1 Axes>"
      ]
     },
     "metadata": {
      "needs_background": "light"
     },
     "output_type": "display_data"
    }
   ],
   "source": [
    "# To display the data in the chart\n",
    "#style the font size\n",
    "font = {'family' : 'normal',\n",
    "        'weight' : 'bold',\n",
    "        'size'   : 14}\n",
    "plt.rc('font', **font)\n",
    "\n",
    "#chart Title\n",
    "plt.title('Monthly Precipitaion')\n",
    "\n",
    "#chart lable for x axis\n",
    "plt.xlabel('Months')\n",
    "\n",
    "#chart lable for y axis\n",
    "plt.ylabel('Rainfall in mm')\n",
    "\n",
    "#chart size and data assign\n",
    "plt.bar(precipitation['id'], precipitation['precipitation'], color='#fa4b2a')\n",
    "\n",
    "\n",
    "#export chart as png\n",
    "plt.savefig('precipitation.png')"
   ]
  },
  {
   "cell_type": "code",
   "execution_count": 459,
   "metadata": {},
   "outputs": [
    {
     "ename": "NameError",
     "evalue": "name 'Countries' is not defined",
     "output_type": "error",
     "traceback": [
      "\u001b[0;31m---------------------------------------------------------------------------\u001b[0m",
      "\u001b[0;31mNameError\u001b[0m                                 Traceback (most recent call last)",
      "\u001b[0;32m<ipython-input-459-da17f5743ed7>\u001b[0m in \u001b[0;36m<module>\u001b[0;34m\u001b[0m\n\u001b[0;32m----> 1\u001b[0;31m \u001b[0mboundary\u001b[0m \u001b[0;34m=\u001b[0m \u001b[0mee\u001b[0m\u001b[0;34m.\u001b[0m\u001b[0mFeature\u001b[0m\u001b[0;34m(\u001b[0m\u001b[0mCountries\u001b[0m\u001b[0;34m.\u001b[0m\u001b[0mfirst\u001b[0m\u001b[0;34m(\u001b[0m\u001b[0;34m)\u001b[0m\u001b[0;34m)\u001b[0m\u001b[0;34m.\u001b[0m\u001b[0mgeometry\u001b[0m\u001b[0;34m(\u001b[0m\u001b[0;34m)\u001b[0m\u001b[0;34m.\u001b[0m\u001b[0mbounds\u001b[0m\u001b[0;34m(\u001b[0m\u001b[0;34m)\u001b[0m\u001b[0;34m.\u001b[0m\u001b[0mgetInfo\u001b[0m\u001b[0;34m(\u001b[0m\u001b[0;34m)\u001b[0m\u001b[0;34m[\u001b[0m\u001b[0;34m'coordinates'\u001b[0m\u001b[0;34m]\u001b[0m\u001b[0;34m\u001b[0m\u001b[0;34m\u001b[0m\u001b[0m\n\u001b[0m\u001b[1;32m      2\u001b[0m \u001b[0mpolygon1\u001b[0m \u001b[0;34m=\u001b[0m \u001b[0mee\u001b[0m\u001b[0;34m.\u001b[0m\u001b[0mGeometry\u001b[0m\u001b[0;34m.\u001b[0m\u001b[0mPolygon\u001b[0m\u001b[0;34m(\u001b[0m\u001b[0mfc\u001b[0m\u001b[0;34m.\u001b[0m\u001b[0mgeometry\u001b[0m\u001b[0;34m(\u001b[0m\u001b[0;34m)\u001b[0m\u001b[0;34m.\u001b[0m\u001b[0mcoordinates\u001b[0m\u001b[0;34m(\u001b[0m\u001b[0;34m)\u001b[0m\u001b[0;34m.\u001b[0m\u001b[0mgetInfo\u001b[0m\u001b[0;34m(\u001b[0m\u001b[0;34m)\u001b[0m\u001b[0;34m[\u001b[0m\u001b[0;36m0\u001b[0m\u001b[0;34m]\u001b[0m\u001b[0;34m)\u001b[0m\u001b[0;34m\u001b[0m\u001b[0;34m\u001b[0m\u001b[0m\n\u001b[1;32m      3\u001b[0m \u001b[0;34m\u001b[0m\u001b[0m\n",
      "\u001b[0;31mNameError\u001b[0m: name 'Countries' is not defined"
     ]
    }
   ],
   "source": [
    "boundary = ee.Feature(Countries.first()).geometry().bounds().getInfo()['coordinates']\n",
    "polygon1 = ee.Geometry.Polygon(fc.geometry().coordinates().getInfo()[0])\n",
    "\n"
   ]
  },
  {
   "cell_type": "code",
   "execution_count": 460,
   "metadata": {},
   "outputs": [
    {
     "ename": "EEException",
     "evalue": "The field \"max_pixels\" must have a value between 1 and 10000000000000 inclusive. If unspecified, the default value is 100000000.",
     "output_type": "error",
     "traceback": [
      "\u001b[0;31m---------------------------------------------------------------------------\u001b[0m",
      "\u001b[0;31mHttpError\u001b[0m                                 Traceback (most recent call last)",
      "\u001b[0;32m~/opt/anaconda3/lib/python3.8/site-packages/ee/data.py\u001b[0m in \u001b[0;36m_execute_cloud_call\u001b[0;34m(call, num_retries)\u001b[0m\n\u001b[1;32m    333\u001b[0m   \u001b[0;32mtry\u001b[0m\u001b[0;34m:\u001b[0m\u001b[0;34m\u001b[0m\u001b[0;34m\u001b[0m\u001b[0m\n\u001b[0;32m--> 334\u001b[0;31m     \u001b[0;32mreturn\u001b[0m \u001b[0mcall\u001b[0m\u001b[0;34m.\u001b[0m\u001b[0mexecute\u001b[0m\u001b[0;34m(\u001b[0m\u001b[0mnum_retries\u001b[0m\u001b[0;34m=\u001b[0m\u001b[0mnum_retries\u001b[0m\u001b[0;34m)\u001b[0m\u001b[0;34m\u001b[0m\u001b[0;34m\u001b[0m\u001b[0m\n\u001b[0m\u001b[1;32m    335\u001b[0m   \u001b[0;32mexcept\u001b[0m \u001b[0mgoogleapiclient\u001b[0m\u001b[0;34m.\u001b[0m\u001b[0merrors\u001b[0m\u001b[0;34m.\u001b[0m\u001b[0mHttpError\u001b[0m \u001b[0;32mas\u001b[0m \u001b[0me\u001b[0m\u001b[0;34m:\u001b[0m\u001b[0;34m\u001b[0m\u001b[0;34m\u001b[0m\u001b[0m\n",
      "\u001b[0;32m~/opt/anaconda3/lib/python3.8/site-packages/googleapiclient/_helpers.py\u001b[0m in \u001b[0;36mpositional_wrapper\u001b[0;34m(*args, **kwargs)\u001b[0m\n\u001b[1;32m    133\u001b[0m                     \u001b[0mlogger\u001b[0m\u001b[0;34m.\u001b[0m\u001b[0mwarning\u001b[0m\u001b[0;34m(\u001b[0m\u001b[0mmessage\u001b[0m\u001b[0;34m)\u001b[0m\u001b[0;34m\u001b[0m\u001b[0;34m\u001b[0m\u001b[0m\n\u001b[0;32m--> 134\u001b[0;31m             \u001b[0;32mreturn\u001b[0m \u001b[0mwrapped\u001b[0m\u001b[0;34m(\u001b[0m\u001b[0;34m*\u001b[0m\u001b[0margs\u001b[0m\u001b[0;34m,\u001b[0m \u001b[0;34m**\u001b[0m\u001b[0mkwargs\u001b[0m\u001b[0;34m)\u001b[0m\u001b[0;34m\u001b[0m\u001b[0;34m\u001b[0m\u001b[0m\n\u001b[0m\u001b[1;32m    135\u001b[0m \u001b[0;34m\u001b[0m\u001b[0m\n",
      "\u001b[0;32m~/opt/anaconda3/lib/python3.8/site-packages/googleapiclient/http.py\u001b[0m in \u001b[0;36mexecute\u001b[0;34m(self, http, num_retries)\u001b[0m\n\u001b[1;32m    914\u001b[0m         \u001b[0;32mif\u001b[0m \u001b[0mresp\u001b[0m\u001b[0;34m.\u001b[0m\u001b[0mstatus\u001b[0m \u001b[0;34m>=\u001b[0m \u001b[0;36m300\u001b[0m\u001b[0;34m:\u001b[0m\u001b[0;34m\u001b[0m\u001b[0;34m\u001b[0m\u001b[0m\n\u001b[0;32m--> 915\u001b[0;31m             \u001b[0;32mraise\u001b[0m \u001b[0mHttpError\u001b[0m\u001b[0;34m(\u001b[0m\u001b[0mresp\u001b[0m\u001b[0;34m,\u001b[0m \u001b[0mcontent\u001b[0m\u001b[0;34m,\u001b[0m \u001b[0muri\u001b[0m\u001b[0;34m=\u001b[0m\u001b[0mself\u001b[0m\u001b[0;34m.\u001b[0m\u001b[0muri\u001b[0m\u001b[0;34m)\u001b[0m\u001b[0;34m\u001b[0m\u001b[0;34m\u001b[0m\u001b[0m\n\u001b[0m\u001b[1;32m    916\u001b[0m         \u001b[0;32mreturn\u001b[0m \u001b[0mself\u001b[0m\u001b[0;34m.\u001b[0m\u001b[0mpostproc\u001b[0m\u001b[0;34m(\u001b[0m\u001b[0mresp\u001b[0m\u001b[0;34m,\u001b[0m \u001b[0mcontent\u001b[0m\u001b[0;34m)\u001b[0m\u001b[0;34m\u001b[0m\u001b[0;34m\u001b[0m\u001b[0m\n",
      "\u001b[0;31mHttpError\u001b[0m: <HttpError 400 when requesting https://earthengine.googleapis.com/v1alpha/projects/earthengine-legacy/image:export?alt=json returned \"The field \"max_pixels\" must have a value between 1 and 10000000000000 inclusive. If unspecified, the default value is 100000000.\". Details: \"The field \"max_pixels\" must have a value between 1 and 10000000000000 inclusive. If unspecified, the default value is 100000000.\">",
      "\nDuring handling of the above exception, another exception occurred:\n",
      "\u001b[0;31mEEException\u001b[0m                               Traceback (most recent call last)",
      "\u001b[0;32m<ipython-input-460-154aee0945e6>\u001b[0m in \u001b[0;36m<module>\u001b[0;34m\u001b[0m\n\u001b[1;32m     11\u001b[0m \u001b[0;34m\u001b[0m\u001b[0m\n\u001b[1;32m     12\u001b[0m \u001b[0mtask\u001b[0m \u001b[0;34m=\u001b[0m \u001b[0mee\u001b[0m\u001b[0;34m.\u001b[0m\u001b[0mbatch\u001b[0m\u001b[0;34m.\u001b[0m\u001b[0mExport\u001b[0m\u001b[0;34m.\u001b[0m\u001b[0mimage\u001b[0m\u001b[0;34m.\u001b[0m\u001b[0mtoDrive\u001b[0m\u001b[0;34m(\u001b[0m\u001b[0mimage\u001b[0m\u001b[0;34m,\u001b[0m \u001b[0mstr\u001b[0m\u001b[0;34m(\u001b[0m\u001b[0;34m'image'\u001b[0m\u001b[0;34m)\u001b[0m\u001b[0;34m,\u001b[0m \u001b[0;34m**\u001b[0m\u001b[0mtask_config\u001b[0m\u001b[0;34m)\u001b[0m\u001b[0;34m\u001b[0m\u001b[0;34m\u001b[0m\u001b[0m\n\u001b[0;32m---> 13\u001b[0;31m \u001b[0mtask\u001b[0m\u001b[0;34m.\u001b[0m\u001b[0mstart\u001b[0m\u001b[0;34m(\u001b[0m\u001b[0;34m)\u001b[0m\u001b[0;34m\u001b[0m\u001b[0;34m\u001b[0m\u001b[0m\n\u001b[0m",
      "\u001b[0;32m~/opt/anaconda3/lib/python3.8/site-packages/ee/batch.py\u001b[0m in \u001b[0;36mstart\u001b[0;34m(self)\u001b[0m\n\u001b[1;32m     81\u001b[0m \u001b[0;34m\u001b[0m\u001b[0m\n\u001b[1;32m     82\u001b[0m     \u001b[0;32mif\u001b[0m \u001b[0mself\u001b[0m\u001b[0;34m.\u001b[0m\u001b[0mtask_type\u001b[0m \u001b[0;34m==\u001b[0m \u001b[0mTask\u001b[0m\u001b[0;34m.\u001b[0m\u001b[0mType\u001b[0m\u001b[0;34m.\u001b[0m\u001b[0mEXPORT_IMAGE\u001b[0m\u001b[0;34m:\u001b[0m\u001b[0;34m\u001b[0m\u001b[0;34m\u001b[0m\u001b[0m\n\u001b[0;32m---> 83\u001b[0;31m       \u001b[0mresult\u001b[0m \u001b[0;34m=\u001b[0m \u001b[0mdata\u001b[0m\u001b[0;34m.\u001b[0m\u001b[0mexportImage\u001b[0m\u001b[0;34m(\u001b[0m\u001b[0mself\u001b[0m\u001b[0;34m.\u001b[0m\u001b[0m_request_id\u001b[0m\u001b[0;34m,\u001b[0m \u001b[0mself\u001b[0m\u001b[0;34m.\u001b[0m\u001b[0mconfig\u001b[0m\u001b[0;34m)\u001b[0m\u001b[0;34m\u001b[0m\u001b[0;34m\u001b[0m\u001b[0m\n\u001b[0m\u001b[1;32m     84\u001b[0m     \u001b[0;32melif\u001b[0m \u001b[0mself\u001b[0m\u001b[0;34m.\u001b[0m\u001b[0mtask_type\u001b[0m \u001b[0;34m==\u001b[0m \u001b[0mTask\u001b[0m\u001b[0;34m.\u001b[0m\u001b[0mType\u001b[0m\u001b[0;34m.\u001b[0m\u001b[0mEXPORT_MAP\u001b[0m\u001b[0;34m:\u001b[0m\u001b[0;34m\u001b[0m\u001b[0;34m\u001b[0m\u001b[0m\n\u001b[1;32m     85\u001b[0m       \u001b[0mresult\u001b[0m \u001b[0;34m=\u001b[0m \u001b[0mdata\u001b[0m\u001b[0;34m.\u001b[0m\u001b[0mexportMap\u001b[0m\u001b[0;34m(\u001b[0m\u001b[0mself\u001b[0m\u001b[0;34m.\u001b[0m\u001b[0m_request_id\u001b[0m\u001b[0;34m,\u001b[0m \u001b[0mself\u001b[0m\u001b[0;34m.\u001b[0m\u001b[0mconfig\u001b[0m\u001b[0;34m)\u001b[0m\u001b[0;34m\u001b[0m\u001b[0;34m\u001b[0m\u001b[0m\n",
      "\u001b[0;32m~/opt/anaconda3/lib/python3.8/site-packages/ee/data.py\u001b[0m in \u001b[0;36mexportImage\u001b[0;34m(request_id, params)\u001b[0m\n\u001b[1;32m   1213\u001b[0m   \"\"\"\n\u001b[1;32m   1214\u001b[0m   \u001b[0mparams\u001b[0m \u001b[0;34m=\u001b[0m \u001b[0mparams\u001b[0m\u001b[0;34m.\u001b[0m\u001b[0mcopy\u001b[0m\u001b[0;34m(\u001b[0m\u001b[0;34m)\u001b[0m\u001b[0;34m\u001b[0m\u001b[0;34m\u001b[0m\u001b[0m\n\u001b[0;32m-> 1215\u001b[0;31m   return _prepare_and_run_export(\n\u001b[0m\u001b[1;32m   1216\u001b[0m       \u001b[0mrequest_id\u001b[0m\u001b[0;34m,\u001b[0m \u001b[0mparams\u001b[0m\u001b[0;34m,\u001b[0m\u001b[0;34m\u001b[0m\u001b[0;34m\u001b[0m\u001b[0m\n\u001b[1;32m   1217\u001b[0m       _get_cloud_api_resource().projects().image().export)\n",
      "\u001b[0;32m~/opt/anaconda3/lib/python3.8/site-packages/ee/data.py\u001b[0m in \u001b[0;36m_prepare_and_run_export\u001b[0;34m(request_id, params, export_endpoint)\u001b[0m\n\u001b[1;32m   1330\u001b[0m         params['expression'], for_cloud_api=True)\n\u001b[1;32m   1331\u001b[0m   \u001b[0mnum_retries\u001b[0m \u001b[0;34m=\u001b[0m \u001b[0mMAX_RETRIES\u001b[0m \u001b[0;32mif\u001b[0m \u001b[0mrequest_id\u001b[0m \u001b[0;32melse\u001b[0m \u001b[0;36m0\u001b[0m\u001b[0;34m\u001b[0m\u001b[0;34m\u001b[0m\u001b[0m\n\u001b[0;32m-> 1332\u001b[0;31m   return _execute_cloud_call(\n\u001b[0m\u001b[1;32m   1333\u001b[0m       \u001b[0mexport_endpoint\u001b[0m\u001b[0;34m(\u001b[0m\u001b[0mproject\u001b[0m\u001b[0;34m=\u001b[0m\u001b[0m_get_projects_path\u001b[0m\u001b[0;34m(\u001b[0m\u001b[0;34m)\u001b[0m\u001b[0;34m,\u001b[0m \u001b[0mbody\u001b[0m\u001b[0;34m=\u001b[0m\u001b[0mparams\u001b[0m\u001b[0;34m)\u001b[0m\u001b[0;34m,\u001b[0m\u001b[0;34m\u001b[0m\u001b[0;34m\u001b[0m\u001b[0m\n\u001b[1;32m   1334\u001b[0m       num_retries=num_retries)\n",
      "\u001b[0;32m~/opt/anaconda3/lib/python3.8/site-packages/ee/data.py\u001b[0m in \u001b[0;36m_execute_cloud_call\u001b[0;34m(call, num_retries)\u001b[0m\n\u001b[1;32m    334\u001b[0m     \u001b[0;32mreturn\u001b[0m \u001b[0mcall\u001b[0m\u001b[0;34m.\u001b[0m\u001b[0mexecute\u001b[0m\u001b[0;34m(\u001b[0m\u001b[0mnum_retries\u001b[0m\u001b[0;34m=\u001b[0m\u001b[0mnum_retries\u001b[0m\u001b[0;34m)\u001b[0m\u001b[0;34m\u001b[0m\u001b[0;34m\u001b[0m\u001b[0m\n\u001b[1;32m    335\u001b[0m   \u001b[0;32mexcept\u001b[0m \u001b[0mgoogleapiclient\u001b[0m\u001b[0;34m.\u001b[0m\u001b[0merrors\u001b[0m\u001b[0;34m.\u001b[0m\u001b[0mHttpError\u001b[0m \u001b[0;32mas\u001b[0m \u001b[0me\u001b[0m\u001b[0;34m:\u001b[0m\u001b[0;34m\u001b[0m\u001b[0;34m\u001b[0m\u001b[0m\n\u001b[0;32m--> 336\u001b[0;31m     \u001b[0;32mraise\u001b[0m \u001b[0m_translate_cloud_exception\u001b[0m\u001b[0;34m(\u001b[0m\u001b[0me\u001b[0m\u001b[0;34m)\u001b[0m\u001b[0;34m\u001b[0m\u001b[0;34m\u001b[0m\u001b[0m\n\u001b[0m\u001b[1;32m    337\u001b[0m \u001b[0;34m\u001b[0m\u001b[0m\n\u001b[1;32m    338\u001b[0m \u001b[0;34m\u001b[0m\u001b[0m\n",
      "\u001b[0;31mEEException\u001b[0m: The field \"max_pixels\" must have a value between 1 and 10000000000000 inclusive. If unspecified, the default value is 100000000."
     ]
    }
   ],
   "source": [
    "task_config = {\n",
    "    'fileNamePrefix': 'image',\n",
    "    'crs': 'EPSG:4326',\n",
    "    'scale': 500,\n",
    "    'maxPixels': 10e15,\n",
    "    'fileFormat': 'GeoTIFF',\n",
    "    'skipEmptyTiles': True,\n",
    "    'region': polygon1 ,\n",
    "    'folder': 'myfolder'\n",
    "    }\n",
    "\n",
    "task = ee.batch.Export.image.toDrive(image, str('image'), **task_config)\n",
    "task.start()"
   ]
  },
  {
   "cell_type": "code",
   "execution_count": 462,
   "metadata": {},
   "outputs": [
    {
     "name": "stdout",
     "output_type": "stream",
     "text": [
      "ee.Image({\n",
      "  \"functionInvocationValue\": {\n",
      "    \"functionName\": \"Image.visualize\",\n",
      "    \"arguments\": {\n",
      "      \"image\": {\n",
      "        \"functionInvocationValue\": {\n",
      "          \"functionName\": \"Image.clip\",\n",
      "          \"arguments\": {\n",
      "            \"geometry\": {\n",
      "              \"functionInvocationValue\": {\n",
      "                \"functionName\": \"Collection.geometry\",\n",
      "                \"arguments\": {\n",
      "                  \"collection\": {\n",
      "                    \"functionInvocationValue\": {\n",
      "                      \"functionName\": \"Collection\",\n",
      "                      \"arguments\": {\n",
      "                        \"features\": {\n",
      "                          \"arrayValue\": {\n",
      "                            \"values\": [\n",
      "                              {\n",
      "                                \"functionInvocationValue\": {\n",
      "                                  \"functionName\": \"Feature\",\n",
      "                                  \"arguments\": {\n",
      "                                    \"geometry\": {\n",
      "                                      \"functionInvocationValue\": {\n",
      "                                        \"functionName\": \"GeometryConstructors.Polygon\",\n",
      "                                        \"arguments\": {\n",
      "                                          \"coordinates\": {\n",
      "                                            \"constantValue\": [\n",
      "                                              [\n",
      "                                                [\n",
      "                                                  104.1574694652148,\n",
      "                                                  43.28082512701279\n",
      "                                                ],\n",
      "                                                [\n",
      "                                                  106.23862359448565,\n",
      "                                                  43.618548374457575\n",
      "                                                ],\n",
      "                                                [\n",
      "                                                  106.1406869295788,\n",
      "                                                  44.498277862491605\n",
      "                                                ],\n",
      "                                                [\n",
      "                                                  107.6587052356352,\n",
      "                                                  44.77703004688289\n",
      "                                                ],\n",
      "                                                [\n",
      "                                                  108.36874605620996,\n",
      "                                                  43.618548374457575\n",
      "                                                ],\n",
      "                                                [\n",
      "                                                  109.56847020131904,\n",
      "                                                  44.16552050503997\n",
      "                                                ],\n",
      "                                                [\n",
      "                                                  111.45375100077617,\n",
      "                                                  43.120192911096666\n",
      "                                                ],\n",
      "                                                [\n",
      "                                                  109.56847020131904,\n",
      "                                                  42.31069284139379\n",
      "                                                ],\n",
      "                                                [\n",
      "                                                  106.85072775015357,\n",
      "                                                  42.09304382863742\n",
      "                                                ],\n",
      "                                                [\n",
      "                                                  104.67163695597583,\n",
      "                                                  41.28859028286109\n",
      "                                                ],\n",
      "                                                [\n",
      "                                                  103.96159613540107,\n",
      "                                                  42.111209878922594\n",
      "                                                ],\n",
      "                                                [\n",
      "                                                  104.1574694652148,\n",
      "                                                  43.28082512701279\n",
      "                                                ]\n",
      "                                              ]\n",
      "                                            ]\n",
      "                                          }\n",
      "                                        }\n",
      "                                      }\n",
      "                                    },\n",
      "                                    \"metadata\": {\n",
      "                                      \"constantValue\": {\n",
      "                                        \"id\": 1,\n",
      "                                        \"system:index\": \"0\"\n",
      "                                      }\n",
      "                                    }\n",
      "                                  }\n",
      "                                }\n",
      "                              }\n",
      "                            ]\n",
      "                          }\n",
      "                        }\n",
      "                      }\n",
      "                    }\n",
      "                  }\n",
      "                }\n",
      "              }\n",
      "            },\n",
      "            \"input\": {\n",
      "              \"functionInvocationValue\": {\n",
      "                \"functionName\": \"Image.paint\",\n",
      "                \"arguments\": {\n",
      "                  \"color\": {\n",
      "                    \"constantValue\": 1\n",
      "                  },\n",
      "                  \"featureCollection\": {\n",
      "                    \"functionInvocationValue\": {\n",
      "                      \"functionName\": \"Collection\",\n",
      "                      \"arguments\": {\n",
      "                        \"features\": {\n",
      "                          \"arrayValue\": {\n",
      "                            \"values\": [\n",
      "                              {\n",
      "                                \"functionInvocationValue\": {\n",
      "                                  \"functionName\": \"Feature\",\n",
      "                                  \"arguments\": {\n",
      "                                    \"geometry\": {\n",
      "                                      \"functionInvocationValue\": {\n",
      "                                        \"functionName\": \"GeometryConstructors.Polygon\",\n",
      "                                        \"arguments\": {\n",
      "                                          \"coordinates\": {\n",
      "                                            \"constantValue\": [\n",
      "                                              [\n",
      "                                                [\n",
      "                                                  104.1574694652148,\n",
      "                                                  43.28082512701279\n",
      "                                                ],\n",
      "                                                [\n",
      "                                                  106.23862359448565,\n",
      "                                                  43.618548374457575\n",
      "                                                ],\n",
      "                                                [\n",
      "                                                  106.1406869295788,\n",
      "                                                  44.498277862491605\n",
      "                                                ],\n",
      "                                                [\n",
      "                                                  107.6587052356352,\n",
      "                                                  44.77703004688289\n",
      "                                                ],\n",
      "                                                [\n",
      "                                                  108.36874605620996,\n",
      "                                                  43.618548374457575\n",
      "                                                ],\n",
      "                                                [\n",
      "                                                  109.56847020131904,\n",
      "                                                  44.16552050503997\n",
      "                                                ],\n",
      "                                                [\n",
      "                                                  111.45375100077617,\n",
      "                                                  43.120192911096666\n",
      "                                                ],\n",
      "                                                [\n",
      "                                                  109.56847020131904,\n",
      "                                                  42.31069284139379\n",
      "                                                ],\n",
      "                                                [\n",
      "                                                  106.85072775015357,\n",
      "                                                  42.09304382863742\n",
      "                                                ],\n",
      "                                                [\n",
      "                                                  104.67163695597583,\n",
      "                                                  41.28859028286109\n",
      "                                                ],\n",
      "                                                [\n",
      "                                                  103.96159613540107,\n",
      "                                                  42.111209878922594\n",
      "                                                ],\n",
      "                                                [\n",
      "                                                  104.1574694652148,\n",
      "                                                  43.28082512701279\n",
      "                                                ]\n",
      "                                              ]\n",
      "                                            ]\n",
      "                                          }\n",
      "                                        }\n",
      "                                      }\n",
      "                                    },\n",
      "                                    \"metadata\": {\n",
      "                                      \"constantValue\": {\n",
      "                                        \"id\": 1,\n",
      "                                        \"system:index\": \"0\"\n",
      "                                      }\n",
      "                                    }\n",
      "                                  }\n",
      "                                }\n",
      "                              }\n",
      "                            ]\n",
      "                          }\n",
      "                        }\n",
      "                      }\n",
      "                    }\n",
      "                  },\n",
      "                  \"image\": {\n",
      "                    \"functionInvocationValue\": {\n",
      "                      \"functionName\": \"Image.byte\",\n",
      "                      \"arguments\": {\n",
      "                        \"value\": {\n",
      "                          \"functionInvocationValue\": {\n",
      "                            \"functionName\": \"Image.mask\",\n",
      "                            \"arguments\": {\n",
      "                              \"image\": {\n",
      "                                \"functionInvocationValue\": {\n",
      "                                  \"functionName\": \"Image.constant\",\n",
      "                                  \"arguments\": {\n",
      "                                    \"value\": {\n",
      "                                      \"constantValue\": 0\n",
      "                                    }\n",
      "                                  }\n",
      "                                }\n",
      "                              },\n",
      "                              \"mask\": {\n",
      "                                \"functionInvocationValue\": {\n",
      "                                  \"functionName\": \"Image.constant\",\n",
      "                                  \"arguments\": {\n",
      "                                    \"value\": {\n",
      "                                      \"constantValue\": 0\n",
      "                                    }\n",
      "                                  }\n",
      "                                }\n",
      "                              }\n",
      "                            }\n",
      "                          }\n",
      "                        }\n",
      "                      }\n",
      "                    }\n",
      "                  },\n",
      "                  \"width\": {\n",
      "                    \"constantValue\": 3\n",
      "                  }\n",
      "                }\n",
      "              }\n",
      "            }\n",
      "          }\n",
      "        }\n",
      "      },\n",
      "      \"palette\": {\n",
      "        \"constantValue\": \"FF0000\"\n",
      "      }\n",
      "    }\n",
      "  }\n",
      "})\n"
     ]
    }
   ],
   "source": [
    "boundary = ee.Feature(Countries.first()).geometry().bounds().getInfo()['coordinates']\n",
    "Export.image.toDrive({\n",
    "  image: landsat,\n",
    "  description: 'imageToDriveExample',\n",
    "  scale: 30,\n",
    "  region: geometry\n",
    "});\n",
    "task_config = {\n",
    "    'fileNamePrefix': 'image',\n",
    "    'crs': 'EPSG:4326',\n",
    "    'scale': 500,\n",
    "    'maxPixels': 10e15,\n",
    "    'fileFormat': 'GeoTIFF',\n",
    "    'skipEmptyTiles': True,\n",
    "    'region': boundary ,\n",
    "    'folder': 'myfolder'\n",
    "    }\n",
    "\n",
    "task = ee.batch.Export.image.toDrive(image, str('image'), task_config)\n",
    "task.start()"
   ]
  },
  {
   "cell_type": "code",
   "execution_count": 463,
   "metadata": {},
   "outputs": [
    {
     "ename": "NameError",
     "evalue": "name 'rasterio' is not defined",
     "output_type": "error",
     "traceback": [
      "\u001b[0;31m---------------------------------------------------------------------------\u001b[0m",
      "\u001b[0;31mNameError\u001b[0m                                 Traceback (most recent call last)",
      "\u001b[0;32m<ipython-input-463-9a6a9bc4c99c>\u001b[0m in \u001b[0;36m<module>\u001b[0;34m\u001b[0m\n\u001b[0;32m----> 1\u001b[0;31m \u001b[0;32mwith\u001b[0m \u001b[0mrasterio\u001b[0m\u001b[0;34m.\u001b[0m\u001b[0mopen\u001b[0m\u001b[0;34m(\u001b[0m\u001b[0mfilepath\u001b[0m\u001b[0;34m)\u001b[0m \u001b[0;32mas\u001b[0m \u001b[0msrc\u001b[0m\u001b[0;34m:\u001b[0m\u001b[0;34m\u001b[0m\u001b[0;34m\u001b[0m\u001b[0m\n\u001b[0m\u001b[1;32m      2\u001b[0m     \u001b[0mprint\u001b[0m\u001b[0;34m(\u001b[0m\u001b[0msrc\u001b[0m\u001b[0;34m.\u001b[0m\u001b[0mprofile\u001b[0m\u001b[0;34m)\u001b[0m\u001b[0;34m\u001b[0m\u001b[0;34m\u001b[0m\u001b[0m\n",
      "\u001b[0;31mNameError\u001b[0m: name 'rasterio' is not defined"
     ]
    }
   ],
   "source": []
  },
  {
   "cell_type": "code",
   "execution_count": 465,
   "metadata": {},
   "outputs": [
    {
     "name": "stdout",
     "output_type": "stream",
     "text": [
      "Collecting rasterio\n",
      "  Downloading rasterio-1.2.0-cp38-cp38-macosx_10_9_x86_64.whl (20.5 MB)\n",
      "\u001b[K     |████████████████████████████████| 20.5 MB 6.5 MB/s eta 0:00:01    |█████                           | 3.1 MB 3.2 MB/s eta 0:00:06     |███████████████████████████▌    | 17.7 MB 6.8 MB/s eta 0:00:01\n",
      "\u001b[?25hCollecting affine\n",
      "  Downloading affine-2.3.0-py2.py3-none-any.whl (15 kB)\n",
      "Requirement already satisfied: certifi in /Users/kad/opt/anaconda3/lib/python3.8/site-packages (from rasterio) (2020.6.20)\n",
      "Requirement already satisfied: cligj>=0.5 in /Users/kad/opt/anaconda3/lib/python3.8/site-packages (from rasterio) (0.7.1)\n",
      "Requirement already satisfied: click-plugins in /Users/kad/opt/anaconda3/lib/python3.8/site-packages (from rasterio) (1.1.1)\n",
      "Requirement already satisfied: attrs in /Users/kad/opt/anaconda3/lib/python3.8/site-packages (from rasterio) (19.3.0)\n",
      "Requirement already satisfied: numpy in /Users/kad/opt/anaconda3/lib/python3.8/site-packages (from rasterio) (1.18.5)\n",
      "Collecting snuggs>=1.4.1\n",
      "  Downloading snuggs-1.4.7-py3-none-any.whl (5.4 kB)\n",
      "Requirement already satisfied: click<8,>=4.0 in /Users/kad/opt/anaconda3/lib/python3.8/site-packages (from rasterio) (7.1.2)\n",
      "Requirement already satisfied: pyparsing>=2.1.6 in /Users/kad/opt/anaconda3/lib/python3.8/site-packages (from snuggs>=1.4.1->rasterio) (2.4.7)\n",
      "Installing collected packages: affine, snuggs, rasterio\n",
      "Successfully installed affine-2.3.0 rasterio-1.2.0 snuggs-1.4.7\n",
      "Note: you may need to restart the kernel to use updated packages.\n"
     ]
    }
   ],
   "source": [
    "pip install  rasterio"
   ]
  },
  {
   "cell_type": "code",
   "execution_count": 466,
   "metadata": {},
   "outputs": [],
   "source": [
    "import rasterio"
   ]
  },
  {
   "cell_type": "code",
   "execution_count": 467,
   "metadata": {},
   "outputs": [
    {
     "ename": "NameError",
     "evalue": "name 'filepath' is not defined",
     "output_type": "error",
     "traceback": [
      "\u001b[0;31m---------------------------------------------------------------------------\u001b[0m",
      "\u001b[0;31mNameError\u001b[0m                                 Traceback (most recent call last)",
      "\u001b[0;32m<ipython-input-467-9a6a9bc4c99c>\u001b[0m in \u001b[0;36m<module>\u001b[0;34m\u001b[0m\n\u001b[0;32m----> 1\u001b[0;31m \u001b[0;32mwith\u001b[0m \u001b[0mrasterio\u001b[0m\u001b[0;34m.\u001b[0m\u001b[0mopen\u001b[0m\u001b[0;34m(\u001b[0m\u001b[0mfilepath\u001b[0m\u001b[0;34m)\u001b[0m \u001b[0;32mas\u001b[0m \u001b[0msrc\u001b[0m\u001b[0;34m:\u001b[0m\u001b[0;34m\u001b[0m\u001b[0;34m\u001b[0m\u001b[0m\n\u001b[0m\u001b[1;32m      2\u001b[0m     \u001b[0mprint\u001b[0m\u001b[0;34m(\u001b[0m\u001b[0msrc\u001b[0m\u001b[0;34m.\u001b[0m\u001b[0mprofile\u001b[0m\u001b[0;34m)\u001b[0m\u001b[0;34m\u001b[0m\u001b[0;34m\u001b[0m\u001b[0m\n",
      "\u001b[0;31mNameError\u001b[0m: name 'filepath' is not defined"
     ]
    }
   ],
   "source": [
    "with rasterio.open(filepath) as src:\n",
    "    print(src.profile)"
   ]
  },
  {
   "cell_type": "code",
   "execution_count": null,
   "metadata": {},
   "outputs": [],
   "source": []
  }
 ],
 "metadata": {
  "kernelspec": {
   "display_name": "Python 3",
   "language": "python",
   "name": "python3"
  },
  "language_info": {
   "codemirror_mode": {
    "name": "ipython",
    "version": 3
   },
   "file_extension": ".py",
   "mimetype": "text/x-python",
   "name": "python",
   "nbconvert_exporter": "python",
   "pygments_lexer": "ipython3",
   "version": "3.8.3"
  }
 },
 "nbformat": 4,
 "nbformat_minor": 4
}

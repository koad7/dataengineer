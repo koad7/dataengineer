{
 "cells": [
  {
   "cell_type": "code",
   "execution_count": 21,
   "metadata": {},
   "outputs": [],
   "source": [
    "import requests\n",
    "import numpy as np\n",
    "import pandas as pd\n",
    "import geopandas as gpd\n",
    "import scipy.sparse as sparse\n",
    "from bs4 import BeautifulSoup\n",
    "import sys, os\n",
    "from multiprocessing import Pool, cpu_count\n",
    "from concurrent.futures import ThreadPoolExecutor,as_completed\n",
    "from functools import partial\n",
    "import collections\n",
    "import urllib.request\n",
    "import fiona\n",
    "import rasterio.mask\n",
    "import rasterio\n",
    "import requests\n",
    "import gzip\n",
    "import pprint\n",
    "import logging\n",
    "import click\n",
    "import itertools\n",
    "import glob\n",
    "pp = pprint.PrettyPrinter(indent=2)\n",
    "\n",
    "\n",
    "\n",
    "logging.basicConfig(filename='app.log', filemode='w', format='%(name)s - %(levelname)s - %(message)s',level=logging.ERROR)\n",
    "\n",
    "\n",
    "def delete_all_downloaded_files(folderpath):\n",
    "    '''Delete all files in given folder. Main usae is to erase all downloaded files\n",
    "    folderpath: folder path\n",
    "    '''\n",
    "    files = glob.glob(folderpath+'*')\n",
    "    for f in files:\n",
    "        os.remove(f)\n",
    "\n",
    "def proj_init():\n",
    "    '''Init function for folders creation and determining useful number of threads to use'''\n",
    "    # CREATE WORK DIRS \n",
    "    DOWNLOADS_DIR='./.temp/downloads/' # downloaded files\n",
    "    if not os.path.exists(DOWNLOADS_DIR):\n",
    "        os.makedirs(DOWNLOADS_DIR)\n",
    "    MASKED_FILES_DIR='./.temp/masked/' # created masked files\n",
    "    if not os.path.exists(MASKED_FILES_DIR): \n",
    "        os.makedirs(MASKED_FILES_DIR)\n",
    "    SATCKED_FILES_DIR='./.temp/stacked/'\n",
    "    if not os.path.exists(SATCKED_FILES_DIR): # created stacked files\n",
    "        os.makedirs(SATCKED_FILES_DIR)\n",
    "    # Nbr of thread to use for multiprocessing\n",
    "    if (multiprocessing.cpu_count() > 2):\n",
    "        THREADS=multiprocessing.cpu_count()-2\n",
    "    else:\n",
    "        THREADS=2 # At least 2 for multi threading\n",
    "    return {'DOWNLOADS_DIR':DOWNLOADS_DIR,'MASKED_FILES_DIR':MASKED_FILES_DIR, 'SATCKED_FILES_DIR':SATCKED_FILES_DIR,'THREADS':THREADS }\n",
    "    \n",
    "\n"
   ]
  },
  {
   "cell_type": "code",
   "execution_count": 12,
   "metadata": {},
   "outputs": [],
   "source": [
    "myenv=proj_init()\n",
    "DOWNLOADS_DIR=myenv['DOWNLOADS_DIR']\n",
    "MASKED_FILES_DIR=myenv['MASKED_FILES_DIR']\n",
    "SATCKED_FILES_DIR=myenv['SATCKED_FILES_DIR']\n",
    "THREADS=myenv['THREADS']"
   ]
  },
  {
   "cell_type": "code",
   "execution_count": null,
   "metadata": {},
   "outputs": [],
   "source": []
  },
  {
   "cell_type": "markdown",
   "metadata": {},
   "source": [
    "# Download rasters "
   ]
  },
  {
   "cell_type": "code",
   "execution_count": 13,
   "metadata": {},
   "outputs": [],
   "source": [
    "def files_url_list(url,files,year):\n",
    "    '''Build the files url list'''\n",
    "    logger = logging.getLogger(__name__)\n",
    "    page = requests.get(url).text\n",
    "    soup = BeautifulSoup(page, 'html.parser')\n",
    "    for node in soup.find_all('a'):\n",
    "        try:\n",
    "            if(node.get('href').endswith('tif') | node.get('href').endswith('gz')):\n",
    "                if(node.get('href').split('.')[-4]==str(year) or node.get('href').split('.')[-5]==str(year)):\n",
    "                    files.append( url + '/' + node.get('href'))\n",
    "        except Exception as e:\n",
    "            logging.exception(\"files_url_list: Exception caught during processing\")\n",
    "            "
   ]
  },
  {
   "cell_type": "markdown",
   "metadata": {},
   "source": [
    "# Download all files"
   ]
  },
  {
   "cell_type": "code",
   "execution_count": 14,
   "metadata": {},
   "outputs": [],
   "source": [
    "\n",
    "def concurrent_files_url_list(baseUrl, years):\n",
    "    '''Donwload file links from the CHIRPS url'''\n",
    "    files={}\n",
    "    # Concurent downloading of the data\n",
    "    from concurrent.futures import ThreadPoolExecutor, as_completed\n",
    "    append_data=[]\n",
    "    result=[]\n",
    "    # Concurences\n",
    "    with ThreadPoolExecutor(max_workers=THREADS) as executor:\n",
    "        for year in years:\n",
    "            files[str(year)]=[]\n",
    "            if(baseUrl.split('_')[-1].split('/')[0]=='daily'):# In case using daily rainfall data in the daily folder\n",
    "                try:\n",
    "                    append_data.append(executor.submit(files_url_list, baseUrl+str(year), files[str(year)],year))\n",
    "                except Exception as e:\n",
    "                    logging.exception(\"download_file_links: Exception caught during processing\")\n",
    "            elif(baseUrl.split('_')[-1].split('/')[0]=='monthly'):# In case using daily rainfall data in the monthly folder\n",
    "                try:\n",
    "                    append_data.append(executor.submit(files_url_list, baseUrl, files[str(year)],year))\n",
    "                except Exception as e:\n",
    "                    logging.exception(\"download_file_links: Exception caught during processing\")\n",
    "\n",
    "    # Retrieve values\n",
    "    for task in as_completed(append_data):\n",
    "        try:\n",
    "            result.append(task.result())\n",
    "        except Exception as e:\n",
    "                logging.exception(\"download_file_links: Exception caught during processing\")\n",
    "    return files"
   ]
  },
  {
   "cell_type": "code",
   "execution_count": 15,
   "metadata": {},
   "outputs": [],
   "source": [
    "# Build files list\n",
    "baseUrl='https://data.chc.ucsb.edu/products/CHIRPS-2.0/global_daily/tifs/p25/'\n",
    "years=[ 2020]#, 2014, 2013, 2012, 2011, 2010]\n",
    "\n",
    "# get all file links\n",
    "files=concurrent_files_url_list(baseUrl, years)\n"
   ]
  },
  {
   "cell_type": "code",
   "execution_count": 97,
   "metadata": {},
   "outputs": [],
   "source": [
    "def download_file(url):\n",
    "    '''Download the .tif or .gz files and uncompress the .gz file in memory'''\n",
    "    if (url.endswith('gz')):\n",
    "        outFilePath = DOWNLOADS_DIR+url.split('/')[-1][:-3]\n",
    "    else:\n",
    "        outFilePath = DOWNLOADS_DIR+url.split('/')[-1]\n",
    "    response = urllib.request.urlopen(url) \n",
    "    with open(outFilePath, 'wb') as outfile:\n",
    "        if (url.endswith('gz')):\n",
    "            outfile.write(gzip.decompress(response.read()))\n",
    "            gzip.decompress(response.read())\n",
    "        elif (url.endswith('tif')):\n",
    "            outfile.write(response.read())\n",
    "        else:\n",
    "            pass\n"
   ]
  },
  {
   "cell_type": "code",
   "execution_count": 98,
   "metadata": {},
   "outputs": [],
   "source": [
    "def concurrent_file_downloader(files):    \n",
    "    '''Concurent downloading and extraction of the data'''\n",
    "    from concurrent.futures import ThreadPoolExecutor, as_completed\n",
    "    append_data=[]\n",
    "    result=[]\n",
    "    # Concurences\n",
    "    with ThreadPoolExecutor(max_workers=THREADS) as executor:\n",
    "        for year in files:\n",
    "            for url in files[year]:\n",
    "                try:\n",
    "                    append_data.append(executor.submit(download_file,url))\n",
    "                except Exception as e:\n",
    "                    logging.exception(\"concurrent_file_downloader: Exception caught during processing\")\n",
    "\n",
    "    # Retrieve values\n",
    "    for task in as_completed(append_data):\n",
    "        try:\n",
    "            result.append(task.result())\n",
    "        except Exception as e:\n",
    "            logging.exception(\"concurrent_file_downloader: Exception caught during processing\")"
   ]
  },
  {
   "cell_type": "code",
   "execution_count": 99,
   "metadata": {},
   "outputs": [
    {
     "ename": "KeyboardInterrupt",
     "evalue": "",
     "output_type": "error",
     "traceback": [
      "\u001b[0;31m---------------------------------------------------------------------------\u001b[0m",
      "\u001b[0;31mKeyboardInterrupt\u001b[0m                         Traceback (most recent call last)",
      "\u001b[0;32m<ipython-input-99-6cdfd5a37132>\u001b[0m in \u001b[0;36m<module>\u001b[0;34m\u001b[0m\n\u001b[1;32m      1\u001b[0m \u001b[0;31m# launch concurent dowload of all the .tiff files\u001b[0m\u001b[0;34m\u001b[0m\u001b[0;34m\u001b[0m\u001b[0;34m\u001b[0m\u001b[0m\n\u001b[0;32m----> 2\u001b[0;31m \u001b[0mconcurrent_file_downloader\u001b[0m\u001b[0;34m(\u001b[0m\u001b[0mfiles\u001b[0m\u001b[0;34m)\u001b[0m\u001b[0;34m\u001b[0m\u001b[0;34m\u001b[0m\u001b[0m\n\u001b[0m",
      "\u001b[0;32m<ipython-input-98-12bd65f22995>\u001b[0m in \u001b[0;36mconcurrent_file_downloader\u001b[0;34m(files)\u001b[0m\n\u001b[1;32m     11\u001b[0m                     \u001b[0mappend_data\u001b[0m\u001b[0;34m.\u001b[0m\u001b[0mappend\u001b[0m\u001b[0;34m(\u001b[0m\u001b[0mexecutor\u001b[0m\u001b[0;34m.\u001b[0m\u001b[0msubmit\u001b[0m\u001b[0;34m(\u001b[0m\u001b[0mdownload_file\u001b[0m\u001b[0;34m,\u001b[0m\u001b[0murl\u001b[0m\u001b[0;34m)\u001b[0m\u001b[0;34m)\u001b[0m\u001b[0;34m\u001b[0m\u001b[0;34m\u001b[0m\u001b[0m\n\u001b[1;32m     12\u001b[0m                 \u001b[0;32mexcept\u001b[0m \u001b[0mException\u001b[0m \u001b[0;32mas\u001b[0m \u001b[0me\u001b[0m\u001b[0;34m:\u001b[0m\u001b[0;34m\u001b[0m\u001b[0;34m\u001b[0m\u001b[0m\n\u001b[0;32m---> 13\u001b[0;31m                     \u001b[0mlogging\u001b[0m\u001b[0;34m.\u001b[0m\u001b[0mexception\u001b[0m\u001b[0;34m(\u001b[0m\u001b[0;34m\"concurrent_file_downloader: Exception caught during processing\"\u001b[0m\u001b[0;34m)\u001b[0m\u001b[0;34m\u001b[0m\u001b[0;34m\u001b[0m\u001b[0m\n\u001b[0m\u001b[1;32m     14\u001b[0m \u001b[0;34m\u001b[0m\u001b[0m\n\u001b[1;32m     15\u001b[0m     \u001b[0;31m# Retrieve values\u001b[0m\u001b[0;34m\u001b[0m\u001b[0;34m\u001b[0m\u001b[0;34m\u001b[0m\u001b[0m\n",
      "\u001b[0;32m~/opt/anaconda3/lib/python3.8/concurrent/futures/_base.py\u001b[0m in \u001b[0;36m__exit__\u001b[0;34m(self, exc_type, exc_val, exc_tb)\u001b[0m\n\u001b[1;32m    634\u001b[0m \u001b[0;34m\u001b[0m\u001b[0m\n\u001b[1;32m    635\u001b[0m     \u001b[0;32mdef\u001b[0m \u001b[0m__exit__\u001b[0m\u001b[0;34m(\u001b[0m\u001b[0mself\u001b[0m\u001b[0;34m,\u001b[0m \u001b[0mexc_type\u001b[0m\u001b[0;34m,\u001b[0m \u001b[0mexc_val\u001b[0m\u001b[0;34m,\u001b[0m \u001b[0mexc_tb\u001b[0m\u001b[0;34m)\u001b[0m\u001b[0;34m:\u001b[0m\u001b[0;34m\u001b[0m\u001b[0;34m\u001b[0m\u001b[0m\n\u001b[0;32m--> 636\u001b[0;31m         \u001b[0mself\u001b[0m\u001b[0;34m.\u001b[0m\u001b[0mshutdown\u001b[0m\u001b[0;34m(\u001b[0m\u001b[0mwait\u001b[0m\u001b[0;34m=\u001b[0m\u001b[0;32mTrue\u001b[0m\u001b[0;34m)\u001b[0m\u001b[0;34m\u001b[0m\u001b[0;34m\u001b[0m\u001b[0m\n\u001b[0m\u001b[1;32m    637\u001b[0m         \u001b[0;32mreturn\u001b[0m \u001b[0;32mFalse\u001b[0m\u001b[0;34m\u001b[0m\u001b[0;34m\u001b[0m\u001b[0m\n\u001b[1;32m    638\u001b[0m \u001b[0;34m\u001b[0m\u001b[0m\n",
      "\u001b[0;32m~/opt/anaconda3/lib/python3.8/concurrent/futures/thread.py\u001b[0m in \u001b[0;36mshutdown\u001b[0;34m(self, wait)\u001b[0m\n\u001b[1;32m    234\u001b[0m         \u001b[0;32mif\u001b[0m \u001b[0mwait\u001b[0m\u001b[0;34m:\u001b[0m\u001b[0;34m\u001b[0m\u001b[0;34m\u001b[0m\u001b[0m\n\u001b[1;32m    235\u001b[0m             \u001b[0;32mfor\u001b[0m \u001b[0mt\u001b[0m \u001b[0;32min\u001b[0m \u001b[0mself\u001b[0m\u001b[0;34m.\u001b[0m\u001b[0m_threads\u001b[0m\u001b[0;34m:\u001b[0m\u001b[0;34m\u001b[0m\u001b[0;34m\u001b[0m\u001b[0m\n\u001b[0;32m--> 236\u001b[0;31m                 \u001b[0mt\u001b[0m\u001b[0;34m.\u001b[0m\u001b[0mjoin\u001b[0m\u001b[0;34m(\u001b[0m\u001b[0;34m)\u001b[0m\u001b[0;34m\u001b[0m\u001b[0;34m\u001b[0m\u001b[0m\n\u001b[0m\u001b[1;32m    237\u001b[0m     \u001b[0mshutdown\u001b[0m\u001b[0;34m.\u001b[0m\u001b[0m__doc__\u001b[0m \u001b[0;34m=\u001b[0m \u001b[0m_base\u001b[0m\u001b[0;34m.\u001b[0m\u001b[0mExecutor\u001b[0m\u001b[0;34m.\u001b[0m\u001b[0mshutdown\u001b[0m\u001b[0;34m.\u001b[0m\u001b[0m__doc__\u001b[0m\u001b[0;34m\u001b[0m\u001b[0;34m\u001b[0m\u001b[0m\n",
      "\u001b[0;32m~/opt/anaconda3/lib/python3.8/threading.py\u001b[0m in \u001b[0;36mjoin\u001b[0;34m(self, timeout)\u001b[0m\n\u001b[1;32m   1009\u001b[0m \u001b[0;34m\u001b[0m\u001b[0m\n\u001b[1;32m   1010\u001b[0m         \u001b[0;32mif\u001b[0m \u001b[0mtimeout\u001b[0m \u001b[0;32mis\u001b[0m \u001b[0;32mNone\u001b[0m\u001b[0;34m:\u001b[0m\u001b[0;34m\u001b[0m\u001b[0;34m\u001b[0m\u001b[0m\n\u001b[0;32m-> 1011\u001b[0;31m             \u001b[0mself\u001b[0m\u001b[0;34m.\u001b[0m\u001b[0m_wait_for_tstate_lock\u001b[0m\u001b[0;34m(\u001b[0m\u001b[0;34m)\u001b[0m\u001b[0;34m\u001b[0m\u001b[0;34m\u001b[0m\u001b[0m\n\u001b[0m\u001b[1;32m   1012\u001b[0m         \u001b[0;32melse\u001b[0m\u001b[0;34m:\u001b[0m\u001b[0;34m\u001b[0m\u001b[0;34m\u001b[0m\u001b[0m\n\u001b[1;32m   1013\u001b[0m             \u001b[0;31m# the behavior of a negative timeout isn't documented, but\u001b[0m\u001b[0;34m\u001b[0m\u001b[0;34m\u001b[0m\u001b[0;34m\u001b[0m\u001b[0m\n",
      "\u001b[0;32m~/opt/anaconda3/lib/python3.8/threading.py\u001b[0m in \u001b[0;36m_wait_for_tstate_lock\u001b[0;34m(self, block, timeout)\u001b[0m\n\u001b[1;32m   1025\u001b[0m         \u001b[0;32mif\u001b[0m \u001b[0mlock\u001b[0m \u001b[0;32mis\u001b[0m \u001b[0;32mNone\u001b[0m\u001b[0;34m:\u001b[0m  \u001b[0;31m# already determined that the C code is done\u001b[0m\u001b[0;34m\u001b[0m\u001b[0;34m\u001b[0m\u001b[0m\n\u001b[1;32m   1026\u001b[0m             \u001b[0;32massert\u001b[0m \u001b[0mself\u001b[0m\u001b[0;34m.\u001b[0m\u001b[0m_is_stopped\u001b[0m\u001b[0;34m\u001b[0m\u001b[0;34m\u001b[0m\u001b[0m\n\u001b[0;32m-> 1027\u001b[0;31m         \u001b[0;32melif\u001b[0m \u001b[0mlock\u001b[0m\u001b[0;34m.\u001b[0m\u001b[0macquire\u001b[0m\u001b[0;34m(\u001b[0m\u001b[0mblock\u001b[0m\u001b[0;34m,\u001b[0m \u001b[0mtimeout\u001b[0m\u001b[0;34m)\u001b[0m\u001b[0;34m:\u001b[0m\u001b[0;34m\u001b[0m\u001b[0;34m\u001b[0m\u001b[0m\n\u001b[0m\u001b[1;32m   1028\u001b[0m             \u001b[0mlock\u001b[0m\u001b[0;34m.\u001b[0m\u001b[0mrelease\u001b[0m\u001b[0;34m(\u001b[0m\u001b[0;34m)\u001b[0m\u001b[0;34m\u001b[0m\u001b[0;34m\u001b[0m\u001b[0m\n\u001b[1;32m   1029\u001b[0m             \u001b[0mself\u001b[0m\u001b[0;34m.\u001b[0m\u001b[0m_stop\u001b[0m\u001b[0;34m(\u001b[0m\u001b[0;34m)\u001b[0m\u001b[0;34m\u001b[0m\u001b[0;34m\u001b[0m\u001b[0m\n",
      "\u001b[0;31mKeyboardInterrupt\u001b[0m: "
     ]
    }
   ],
   "source": [
    "# launch concurent dowload of all the .tiff files\n",
    "concurrent_file_downloader(files)"
   ]
  },
  {
   "cell_type": "markdown",
   "metadata": {},
   "source": [
    "# Masking rasters with the shapefile\n"
   ]
  },
  {
   "cell_type": "code",
   "execution_count": null,
   "metadata": {},
   "outputs": [],
   "source": [
    "def aoi_shapefile_reader(aoishapefile):\n",
    "    # Read the AOI's shapefile\n",
    "    with fiona.open(aoishapefile, \"r\") as shapefile:\n",
    "        shapes = [feature[\"geometry\"] for feature in shapefile]\n",
    "    return shapes\n",
    "# dowload aoi\n",
    "aoishapes=aoi_shapefile_reader(\"data/aoi.shp\")"
   ]
  },
  {
   "cell_type": "code",
   "execution_count": null,
   "metadata": {},
   "outputs": [],
   "source": [
    "aoishapes"
   ]
  },
  {
   "cell_type": "code",
   "execution_count": null,
   "metadata": {},
   "outputs": [],
   "source": [
    "# Masking\n",
    "def masking(file,shapes):\n",
    "    '''Cliping of .tif files by the provided shapefile\n",
    "    file: file name with .tif extension\n",
    "    shapes: Polygon with its coordinate\n",
    "    '''\n",
    "    if file[-4:]=='.tif':\n",
    "        with rasterio.open(DOWNLOADS_DIR+file) as src:\n",
    "            out_image, out_transform = rasterio.mask.mask(src, shapes, crop=True)\n",
    "            out_meta = src.meta\n",
    "        # use the updated spatial transform and raster height and width to write the masked raster to a new file.   \n",
    "        out_meta.update({\"driver\": \"GTiff\",\n",
    "                         \"height\": out_image.shape[1],\n",
    "                         \"width\": out_image.shape[2],\n",
    "                         \"transform\": out_transform})\n",
    "        with rasterio.open(MASKED_FILES_DIR+file[:-4]+\".masked.tif\", \"w\", **out_meta) as dest:\n",
    "            dest.write(out_image)\n"
   ]
  },
  {
   "cell_type": "code",
   "execution_count": null,
   "metadata": {},
   "outputs": [],
   "source": [
    "def concurrent_masking(shapes):\n",
    "    '''Launch the concurent masking of the list of .tiff files by the polygon provided'''\n",
    "    append_data=[]\n",
    "    result=[]\n",
    "    # Concurent masking\n",
    "    with ThreadPoolExecutor(max_workers=10) as executor:\n",
    "         for file in os.listdir(DOWNLOADS_DIR):\n",
    "            try:\n",
    "                append_data.append(executor.submit(masking,file,aoishapes))\n",
    "            except Exception as e:\n",
    "                logging.exception(\"concurrent_file_downloader: Exception caught during processing\")\n",
    "\n",
    "    # Retrieve values\n",
    "    for task in as_completed(append_data):\n",
    "        try:\n",
    "            result.append(task.result())\n",
    "        except Exception as e:\n",
    "            logging.exception(\"concurrent_file_downloader: Exception caught during processing\")"
   ]
  },
  {
   "cell_type": "code",
   "execution_count": null,
   "metadata": {},
   "outputs": [],
   "source": [
    "concurrent_masking(aoishapes)"
   ]
  },
  {
   "cell_type": "markdown",
   "metadata": {},
   "source": [
    "# Calculation of number of rainy days"
   ]
  },
  {
   "cell_type": "code",
   "execution_count": 22,
   "metadata": {},
   "outputs": [],
   "source": [
    "def calculate_rainy_days(years):\n",
    "    '''Calculate the number of rainy dates in month over a year'''\n",
    "    MONTHS_DICT={1:'Jan', 2: 'Feb', 3:'Mar',4:'Apr', 5:'May',6:'Jun',7:'Jul',8:'Aug',9:'Sep',10:'Oct',11:'Nov',12:'Dec'}\n",
    "    data_array=[]\n",
    "    Mat = pd.DataFrame()\n",
    "    table=pd.DataFrame(index=np.arange(0,1))\n",
    "    for file in os.listdir(MASKED_FILES_DIR):\n",
    "        if file[-4:]=='.tif':\n",
    "            dataset = rasterio.open(MASKED_FILES_DIR+file)\n",
    "            widht=dataset.profile.get('width')\n",
    "            height=dataset.profile.get('height')\n",
    "            data_array=dataset.read(1)\n",
    "            data_array_sparse=sparse.coo_matrix(data_array,shape=(height,widht))\n",
    "            if(baseUrl.split('_')[-1].split('/')[0]=='daily'):\n",
    "                data = file[12:-11]\n",
    "            elif(baseUrl.split('_')[-1].split('/')[0]=='monthly'):\n",
    "                data = file[12:-14]\n",
    "            Mat[data]=data_array_sparse.toarray().tolist()\n",
    "\n",
    "    # Calculate the precipitaion per day dataframe\n",
    "    raindatadf = pd.DataFrame(Mat.applymap(lambda x: sum([t for t in x])).sum()).T\n",
    "    rainy_days={}\n",
    "    for year in years:\n",
    "        number_of_days={}\n",
    "        for i in range(1,13): # for 12 months\n",
    "            number_of_days[MONTHS_DICT[i]]=raindatadf[raindatadf.columns[raindatadf.columns.str.slice(0,7).str.endswith(f'{year}.{i:02}')]].gt(0.0).sum(axis=1)[0]\n",
    "        rainy_days[year]=number_of_days\n",
    "    return collections.OrderedDict(sorted(rainy_days.items()))\n",
    "       "
   ]
  },
  {
   "cell_type": "code",
   "execution_count": 23,
   "metadata": {},
   "outputs": [],
   "source": [
    "raindata=calculate_rainy_days(years)"
   ]
  },
  {
   "cell_type": "code",
   "execution_count": 24,
   "metadata": {},
   "outputs": [
    {
     "data": {
      "text/plain": [
       "OrderedDict([(2020,\n",
       "              {'Jan': 13,\n",
       "               'Feb': 14,\n",
       "               'Mar': 19,\n",
       "               'Apr': 11,\n",
       "               'May': 24,\n",
       "               'Jun': 25,\n",
       "               'Jul': 28,\n",
       "               'Aug': 23,\n",
       "               'Sep': 24,\n",
       "               'Oct': 15,\n",
       "               'Nov': 11,\n",
       "               'Dec': 6})])"
      ]
     },
     "execution_count": 24,
     "metadata": {},
     "output_type": "execute_result"
    }
   ],
   "source": [
    "raindata\n",
    "    "
   ]
  },
  {
   "cell_type": "markdown",
   "metadata": {},
   "source": [
    "# Write stacked raster images"
   ]
  },
  {
   "cell_type": "code",
   "execution_count": 25,
   "metadata": {},
   "outputs": [],
   "source": [
    "# Build files list\n",
    "#key_f = lambda x: x[12:16]  #year\n",
    "\n",
    "def order_masked_files_per_month():\n",
    "    rasterfiles={}\n",
    "    key = lambda x: x[17:19] # Month\n",
    "    masked_raster=os.listdir(MASKED_FILES_DIR)\n",
    "    masked_raster=sorted(masked_raster, key=key)\n",
    "    myfileslist=[]\n",
    "\n",
    "    for key, group in itertools.groupby(masked_raster, key):\n",
    "        myfileslist.append(list(group))\n",
    "    # Month selection as key\n",
    "    for l in myfileslist:\n",
    "        rasterfiles[str(l[0][17:19])]=l \n",
    "    return rasterfiles"
   ]
  },
  {
   "cell_type": "code",
   "execution_count": 26,
   "metadata": {},
   "outputs": [],
   "source": [
    "rasterfiles={}\n",
    "rasterfiles=order_masked_files_per_month()"
   ]
  },
  {
   "cell_type": "code",
   "execution_count": 28,
   "metadata": {},
   "outputs": [
    {
     "name": "stdout",
     "output_type": "stream",
     "text": [
      "01\n",
      "02\n",
      "03\n",
      "04\n",
      "05\n",
      "06\n",
      "07\n",
      "08\n",
      "09\n",
      "10\n",
      "11\n",
      "12\n"
     ]
    }
   ],
   "source": []
  },
  {
   "cell_type": "code",
   "execution_count": null,
   "metadata": {},
   "outputs": [],
   "source": [
    "def stack_rasters(file_list,month):\n",
    "        '''Stack list of .tif files per month'''\n",
    "        with rasterio.open(MASKED_FILES_DIR+file_list[0]) as src0:\n",
    "            meta = src0.meta\n",
    "\n",
    "        # Update meta to reflect the number of layers\n",
    "        meta.update(count = len(file_list))\n",
    "\n",
    "        # Read each layer and write it to stack\n",
    "        years_list='_'.join(map(str, [years[-1], years[0]]))\n",
    "        with rasterio.open(f'{SATCKED_FILES_DIR}stacked_{years_list}.{month}.tif', 'w', **meta) as dst:\n",
    "            for id, layer in enumerate(file_list, start=1):\n",
    "                with rasterio.open(MASKED_FILES_DIR+layer) as src1:\n",
    "                    dst.write_band(id, src1.read(1))"
   ]
  },
  {
   "cell_type": "code",
   "execution_count": null,
   "metadata": {},
   "outputs": [],
   "source": [
    "def concurrent_stack_rasters():\n",
    "    append_data=[]\n",
    "    result=[]\n",
    "    # Concurent masking\n",
    "    with ThreadPoolExecutor(max_workers=THREADS) as executor:\n",
    "         for month in rasterfiles:\n",
    "            try:\n",
    "                #int(month[:3]) # trick to remove .DS_STORE file\n",
    "                file_list=rasterfiles[month] \n",
    "                pp.pprint(month)\n",
    "                append_data.append(executor.submit(stack_rasters,file_list,month))\n",
    "            except Exception as e:\n",
    "                pass\n",
    "    # Retrieve values\n",
    "    for task in as_completed(append_data):\n",
    "        try:\n",
    "            result.append(task.result())\n",
    "        except Exception as e:\n",
    "            pass"
   ]
  },
  {
   "cell_type": "code",
   "execution_count": null,
   "metadata": {},
   "outputs": [],
   "source": [
    "concurrent_stack_rasters()"
   ]
  },
  {
   "cell_type": "markdown",
   "metadata": {},
   "source": [
    "# Reading the the output raster Files"
   ]
  },
  {
   "cell_type": "code",
   "execution_count": 52,
   "metadata": {},
   "outputs": [],
   "source": [
    "import matplotlib.pyplot as plt\n"
   ]
  },
  {
   "cell_type": "code",
   "execution_count": 29,
   "metadata": {},
   "outputs": [],
   "source": [
    "raster = rasterio.open('/Users/kad/Documents/TUTORIALS/Interviews/Data_acquisition_homework/chirps-v2.0.2021.01.tif')"
   ]
  },
  {
   "cell_type": "code",
   "execution_count": 30,
   "metadata": {},
   "outputs": [
    {
     "data": {
      "text/plain": [
       "{'driver': 'GTiff',\n",
       " 'dtype': 'float32',\n",
       " 'nodata': None,\n",
       " 'width': 7200,\n",
       " 'height': 2000,\n",
       " 'count': 1,\n",
       " 'crs': CRS.from_epsg(4326),\n",
       " 'transform': Affine(0.05000000074505806, 0.0, -180.0,\n",
       "        0.0, -0.05000000074505806, 50.0)}"
      ]
     },
     "execution_count": 30,
     "metadata": {},
     "output_type": "execute_result"
    }
   ],
   "source": [
    "raster.meta\n"
   ]
  },
  {
   "cell_type": "code",
   "execution_count": null,
   "metadata": {},
   "outputs": [],
   "source": []
  },
  {
   "cell_type": "code",
   "execution_count": 55,
   "metadata": {},
   "outputs": [
    {
     "name": "stdout",
     "output_type": "stream",
     "text": [
      "(31, 15, 31)\n"
     ]
    }
   ],
   "source": [
    "raster_arr = raster.read()\n",
    "print(raster_arr.shape)"
   ]
  },
  {
   "cell_type": "code",
   "execution_count": 56,
   "metadata": {},
   "outputs": [],
   "source": [
    "raster_fcc=np.dstack((raster_arr[4,:,:],raster_arr[3,:,:],raster_arr[2,:,:]))\n"
   ]
  },
  {
   "cell_type": "code",
   "execution_count": 57,
   "metadata": {},
   "outputs": [
    {
     "data": {
      "text/plain": [
       "Text(0.5, 1.0, 'FCC543')"
      ]
     },
     "execution_count": 57,
     "metadata": {},
     "output_type": "execute_result"
    },
    {
     "data": {
      "image/png": "[encoded data removed]",
      "text/plain": [
       "<Figure size 1080x1080 with 1 Axes>"
      ]
     },
     "metadata": {
      "needs_background": "light"
     },
     "output_type": "display_data"
    }
   ],
   "source": [
    "fig = plt.figure(figsize = (15,15))\n",
    "plt.imshow(raster_fcc/32768)\n",
    "plt.title('FCC543')"
   ]
  },
  {
   "cell_type": "markdown",
   "metadata": {},
   "source": [
    "# Another methods for stacking "
   ]
  },
  {
   "cell_type": "code",
   "execution_count": 63,
   "metadata": {},
   "outputs": [],
   "source": [
    "delete_all_downloaded_files(DOWNLOADS_DIR)\n",
    "delete_all_downloaded_files(MASKED_FILES_DIR)"
   ]
  },
  {
   "cell_type": "code",
   "execution_count": null,
   "metadata": {},
   "outputs": [],
   "source": []
  }
 ],
 "metadata": {
  "kernelspec": {
   "display_name": "Python 3",
   "language": "python",
   "name": "python3"
  },
  "language_info": {
   "codemirror_mode": {
    "name": "ipython",
    "version": 3
   },
   "file_extension": ".py",
   "mimetype": "text/x-python",
   "name": "python",
   "nbconvert_exporter": "python",
   "pygments_lexer": "ipython3",
   "version": "3.8.3"
  }
 },
 "nbformat": 4,
 "nbformat_minor": 4
}
